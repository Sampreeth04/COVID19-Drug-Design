{
 "cells": [
  {
   "cell_type": "code",
   "execution_count": 3,
   "metadata": {},
   "outputs": [
    {
     "name": "stdout",
     "output_type": "stream",
     "text": [
      "COMPLETE\n"
     ]
    },
    {
     "name": "stderr",
     "output_type": "stream",
     "text": [
      "C:\\Users\\sampr\\anaconda3\\lib\\site-packages\\ipykernel_launcher.py:39: SettingWithCopyWarning: \n",
      "A value is trying to be set on a copy of a slice from a DataFrame\n",
      "\n",
      "See the caveats in the documentation: https://pandas.pydata.org/pandas-docs/stable/user_guide/indexing.html#returning-a-view-versus-a-copy\n",
      "C:\\Users\\sampr\\anaconda3\\lib\\site-packages\\ipykernel_launcher.py:40: SettingWithCopyWarning: \n",
      "A value is trying to be set on a copy of a slice from a DataFrame\n",
      "\n",
      "See the caveats in the documentation: https://pandas.pydata.org/pandas-docs/stable/user_guide/indexing.html#returning-a-view-versus-a-copy\n",
      "C:\\Users\\sampr\\anaconda3\\lib\\site-packages\\ipykernel_launcher.py:41: SettingWithCopyWarning: \n",
      "A value is trying to be set on a copy of a slice from a DataFrame\n",
      "\n",
      "See the caveats in the documentation: https://pandas.pydata.org/pandas-docs/stable/user_guide/indexing.html#returning-a-view-versus-a-copy\n",
      "C:\\Users\\sampr\\anaconda3\\lib\\site-packages\\ipykernel_launcher.py:47: SettingWithCopyWarning: \n",
      "A value is trying to be set on a copy of a slice from a DataFrame\n",
      "\n",
      "See the caveats in the documentation: https://pandas.pydata.org/pandas-docs/stable/user_guide/indexing.html#returning-a-view-versus-a-copy\n"
     ]
    }
   ],
   "source": [
    "import pandas as pd\n",
    "import numpy as np\n",
    "\n",
    "df = pd.read_csv('final_solvation_energy_df.csv')\n",
    "\n",
    "counter_df_columns = {'NAME': df['NAME'], 'Best_solvation_energy': [0 for i in range(28)], 'Second_best_solvation_energy' : [0 for i in range(28)], 'Third_best_solvation_energy' : [0 for i in range(28)]}\n",
    "counter_df = pd.DataFrame(data=counter_df_columns)\n",
    "\n",
    "temp_df = df.drop('NAME', axis=1)\n",
    "for x in temp_df.columns:\n",
    "    largest = 0\n",
    "    second_largest = 0\n",
    "    third_largest = 0\n",
    "    \n",
    "    largest_index = 0\n",
    "    second_largest_index = 0\n",
    "    third_largest_index = 0\n",
    "    count = 0\n",
    "    \n",
    "    for i in df[x]:\n",
    "        if i<largest:\n",
    "            third_largest = second_largest\n",
    "            third_largest_index = second_largest_index\n",
    "            second_largest = largest\n",
    "            second_largest_index = largest_index\n",
    "            largest = i\n",
    "            largest_index = count\n",
    "        elif i<second_largest and i>largest:\n",
    "            third_largest = second_largest\n",
    "            third_largest_index = second_largest_index\n",
    "            second_largest = i\n",
    "            second_largest_index = count\n",
    "        elif i<third_largest and i>second_largest and i>largest:\n",
    "            third_largest = i\n",
    "            third_largest_index = count\n",
    "        count += 1\n",
    "        \n",
    "    #print(largest_index, second_largest_index, third_largest_index)\n",
    "    counter_df['Best_solvation_energy'][largest_index] += 1\n",
    "    counter_df['Second_best_solvation_energy'][second_largest_index] += 1\n",
    "    counter_df['Third_best_solvation_energy'][third_largest_index] += 1\n",
    "\n",
    "    \n",
    "counter_df['Weighted_average'] = [float(0) for i in range(len(counter_df['NAME']))]\n",
    "\n",
    "for i in range(len(counter_df['NAME'])):\n",
    "    counter_df['Weighted_average'][i] = (float(counter_df['Best_solvation_energy'][i]*0.5 + counter_df['Second_best_solvation_energy'][i]*0.3 + counter_df['Third_best_solvation_energy'][i]*0.2))/144\n",
    "    #print((float(counter_df['Best_solvation_energy'][i]*0.5 + counter_df['Second_best_solvation_energy'][i]*0.3 + counter_df['Third_best_solvation_energy'][i]*0.2))/144)\n",
    "\n",
    "#for i in counter_df['Weighted_average']:\n",
    "#    counter_df['Weighted_average'][i] = round(counter_df['Weighted_average'][i], 4)\n",
    "\n",
    "counter_df.to_csv('Weighted_average_df.csv')\n",
    "\n",
    "print('COMPLETE')"
   ]
  },
  {
   "cell_type": "code",
   "execution_count": null,
   "metadata": {},
   "outputs": [],
   "source": []
  }
 ],
 "metadata": {
  "kernelspec": {
   "display_name": "Python 3",
   "language": "python",
   "name": "python3"
  },
  "language_info": {
   "codemirror_mode": {
    "name": "ipython",
    "version": 3
   },
   "file_extension": ".py",
   "mimetype": "text/x-python",
   "name": "python",
   "nbconvert_exporter": "python",
   "pygments_lexer": "ipython3",
   "version": "3.7.6"
  }
 },
 "nbformat": 4,
 "nbformat_minor": 4
}
